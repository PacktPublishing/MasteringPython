{
 "cells": [
  {
   "cell_type": "markdown",
   "metadata": {},
   "source": [
    "# First steps with Numba"
   ]
  },
  {
   "cell_type": "code",
   "execution_count": 23,
   "metadata": {
    "collapsed": false
   },
   "outputs": [],
   "source": [
    "import numba as nb\n",
    "import numpy as np"
   ]
  },
  {
   "cell_type": "code",
   "execution_count": 34,
   "metadata": {
    "collapsed": false
   },
   "outputs": [],
   "source": [
    "@nb.jit(nopython=True)\n",
    "def sum_sq(a):\n",
    "    N = len(a)\n",
    "    \n",
    "    result = 0\n",
    "    for i in range(N):\n",
    "        result += a[i] ** 2\n",
    "    \n",
    "    return result"
   ]
  },
  {
   "cell_type": "code",
   "execution_count": 35,
   "metadata": {
    "collapsed": false
   },
   "outputs": [],
   "source": [
    "x = np.random.rand(10000)"
   ]
  },
  {
   "cell_type": "code",
   "execution_count": 36,
   "metadata": {
    "collapsed": false
   },
   "outputs": [
    {
     "name": "stdout",
     "output_type": "stream",
     "text": [
      "100 loops, best of 3: 3.85 ms per loop\n"
     ]
    }
   ],
   "source": [
    "%timeit sum_sq.py_func(x)"
   ]
  },
  {
   "cell_type": "code",
   "execution_count": 37,
   "metadata": {
    "collapsed": false
   },
   "outputs": [
    {
     "name": "stdout",
     "output_type": "stream",
     "text": [
      "The slowest run took 5773.33 times longer than the fastest. This could mean that an intermediate result is being cached.\n",
      "100000 loops, best of 3: 11.6 µs per loop\n"
     ]
    }
   ],
   "source": [
    "%timeit sum_sq(x)"
   ]
  },
  {
   "cell_type": "code",
   "execution_count": 12,
   "metadata": {
    "collapsed": false
   },
   "outputs": [
    {
     "name": "stdout",
     "output_type": "stream",
     "text": [
      "The slowest run took 44.19 times longer than the fastest. This could mean that an intermediate result is being cached.\n",
      "10000 loops, best of 3: 14.8 µs per loop\n"
     ]
    }
   ],
   "source": [
    "%timeit (x**2).sum()"
   ]
  },
  {
   "cell_type": "code",
   "execution_count": 26,
   "metadata": {
    "collapsed": true
   },
   "outputs": [],
   "source": [
    "x_list = x.tolist()"
   ]
  },
  {
   "cell_type": "code",
   "execution_count": 27,
   "metadata": {
    "collapsed": false
   },
   "outputs": [
    {
     "name": "stdout",
     "output_type": "stream",
     "text": [
      "The slowest run took 523.66 times longer than the fastest. This could mean that an intermediate result is being cached.\n",
      "1000 loops, best of 3: 199 µs per loop\n"
     ]
    }
   ],
   "source": [
    "%timeit sum_sq(x_list)"
   ]
  },
  {
   "cell_type": "code",
   "execution_count": 28,
   "metadata": {
    "collapsed": false
   },
   "outputs": [
    {
     "name": "stdout",
     "output_type": "stream",
     "text": [
      "1000 loops, best of 3: 1.28 ms per loop\n"
     ]
    }
   ],
   "source": [
    "%timeit sum([x**2 for x in x_list])"
   ]
  },
  {
   "cell_type": "markdown",
   "metadata": {},
   "source": [
    "## Type specializations"
   ]
  },
  {
   "cell_type": "code",
   "execution_count": 23,
   "metadata": {
    "collapsed": false
   },
   "outputs": [
    {
     "data": {
      "text/plain": [
       "[]"
      ]
     },
     "execution_count": 23,
     "metadata": {},
     "output_type": "execute_result"
    }
   ],
   "source": [
    "sum_sq.signatures"
   ]
  },
  {
   "cell_type": "code",
   "execution_count": 5,
   "metadata": {
    "collapsed": false
   },
   "outputs": [
    {
     "data": {
      "text/plain": [
       "[(array(float64, 1d, A),)]"
      ]
     },
     "execution_count": 5,
     "metadata": {},
     "output_type": "execute_result"
    }
   ],
   "source": [
    "x = np.random.rand(1000).astype('float64')\n",
    "sum_sq(x)\n",
    "sum_sq.signatures"
   ]
  },
  {
   "cell_type": "code",
   "execution_count": 15,
   "metadata": {
    "collapsed": false
   },
   "outputs": [
    {
     "data": {
      "text/plain": [
       "[(array(float64, 1d, A),)]"
      ]
     },
     "execution_count": 15,
     "metadata": {},
     "output_type": "execute_result"
    }
   ],
   "source": [
    "x = np.random.rand(10000).astype('float32')\n",
    "sum_sq(x)\n",
    "sum_sq.signatures"
   ]
  },
  {
   "cell_type": "code",
   "execution_count": 41,
   "metadata": {
    "collapsed": false
   },
   "outputs": [],
   "source": [
    "@nb.jit(['float64(float64[:])',\n",
    "         'float32(float32[:])'])\n",
    "def sum_sq(a):\n",
    "    N = len(a)\n",
    "    \n",
    "    result = 0\n",
    "    for i in range(N):\n",
    "        result += a[i] ** 2\n",
    "    \n",
    "    return result"
   ]
  },
  {
   "cell_type": "code",
   "execution_count": 42,
   "metadata": {
    "collapsed": false
   },
   "outputs": [
    {
     "data": {
      "text/plain": [
       "[(array(float64, 1d, A),), (array(float32, 1d, A),)]"
      ]
     },
     "execution_count": 42,
     "metadata": {},
     "output_type": "execute_result"
    }
   ],
   "source": [
    "sum_sq.signatures"
   ]
  },
  {
   "cell_type": "code",
   "execution_count": 43,
   "metadata": {
    "collapsed": false
   },
   "outputs": [
    {
     "name": "stdout",
     "output_type": "stream",
     "text": [
      "sum_sq (array(float64, 1d, A),)\n",
      "--------------------------------------------------------------------------------\n",
      "# File: <ipython-input-41-40dcde0acb08>\n",
      "# --- LINE 1 --- \n",
      "# label 0\n",
      "#   del $0.1\n",
      "#   del $0.3\n",
      "#   del $const0.4\n",
      "\n",
      "@nb.jit(['float64(float64[:])',\n",
      "\n",
      "         # --- LINE 2 --- \n",
      "\n",
      "         'float32(float32[:])'])\n",
      "\n",
      "# --- LINE 3 --- \n",
      "\n",
      "def sum_sq(a):\n",
      "\n",
      "    # --- LINE 4 --- \n",
      "    #   a = arg(0, name=a)  :: array(float64, 1d, A)\n",
      "    #   $0.1 = global(len: <built-in function len>)  :: Function(<built-in function len>)\n",
      "    #   $0.3 = call $0.1(a)  :: (array(float64, 1d, A),) -> int64\n",
      "    #   N = $0.3  :: int64\n",
      "\n",
      "    N = len(a)\n",
      "\n",
      "# --- LINE 5 --- \n",
      "\n",
      "\n",
      "\n",
      "    # --- LINE 6 --- \n",
      "    #   $const0.4 = const(int, 0)  :: int64\n",
      "    #   result = $const0.4  :: float64\n",
      "    #   jump 18\n",
      "    # label 18\n",
      "\n",
      "    result = 0\n",
      "\n",
      "    # --- LINE 7 --- \n",
      "    #   jump 21\n",
      "    # label 21\n",
      "    #   $21.1 = global(range: <class 'range'>)  :: Function(<class 'range'>)\n",
      "    #   $21.3 = call $21.1(N)  :: (int64,) -> range_state_int64\n",
      "    #   del N\n",
      "    #   del $21.1\n",
      "    #   $21.4 = getiter(value=$21.3)  :: range_iter_int64\n",
      "    #   del $21.3\n",
      "    #   $phi31.1 = $21.4  :: range_iter_int64\n",
      "    #   del $21.4\n",
      "    #   jump 31\n",
      "    # label 31\n",
      "    #   $31.2 = iternext(value=$phi31.1)  :: pair<int64, bool>\n",
      "    #   $31.3 = pair_first(value=$31.2)  :: int64\n",
      "    #   $31.4 = pair_second(value=$31.2)  :: bool\n",
      "    #   del $31.2\n",
      "    #   $phi34.1 = $31.3  :: int64\n",
      "    #   del $31.3\n",
      "    #   branch $31.4, 34, 58\n",
      "    # label 34\n",
      "    #   del $31.4\n",
      "    #   i = $phi34.1  :: int64\n",
      "    #   del $phi34.1\n",
      "    #   del i\n",
      "    #   del $const34.6\n",
      "    #   del $34.5\n",
      "    #   del $34.7\n",
      "    #   del $34.8\n",
      "\n",
      "    for i in range(N):\n",
      "\n",
      "        # --- LINE 8 --- \n",
      "        #   $34.5 = getitem(index=i, value=a)  :: float64\n",
      "        #   $const34.6 = const(int, 2)  :: int64\n",
      "        #   $34.7 = $34.5 ** $const34.6  :: float64\n",
      "        #   $34.8 = inplace_binop(immutable_fn=+, rhs=$34.7, fn=+=, static_rhs=<object object at 0x7f99679943c0>, static_lhs=<object object at 0x7f99679943c0>, lhs=result)  :: float64\n",
      "        #   result = $34.8  :: float64\n",
      "        #   jump 31\n",
      "        # label 58\n",
      "        #   del a\n",
      "        #   del $phi34.1\n",
      "        #   del $phi31.1\n",
      "        #   del $31.4\n",
      "        #   jump 59\n",
      "        # label 59\n",
      "        #   del result\n",
      "\n",
      "        result += a[i] ** 2\n",
      "\n",
      "# --- LINE 9 --- \n",
      "\n",
      "\n",
      "\n",
      "    # --- LINE 10 --- \n",
      "    #   $59.2 = cast(value=result)  :: float64\n",
      "    #   return $59.2\n",
      "\n",
      "    return result\n",
      "\n",
      "\n",
      "================================================================================\n",
      "sum_sq (array(float32, 1d, A),)\n",
      "--------------------------------------------------------------------------------\n",
      "# File: <ipython-input-41-40dcde0acb08>\n",
      "# --- LINE 1 --- \n",
      "# label 0\n",
      "#   del $0.1\n",
      "#   del $0.3\n",
      "#   del $const0.4\n",
      "\n",
      "@nb.jit(['float64(float64[:])',\n",
      "\n",
      "         # --- LINE 2 --- \n",
      "\n",
      "         'float32(float32[:])'])\n",
      "\n",
      "# --- LINE 3 --- \n",
      "\n",
      "def sum_sq(a):\n",
      "\n",
      "    # --- LINE 4 --- \n",
      "    #   a = arg(0, name=a)  :: array(float32, 1d, A)\n",
      "    #   $0.1 = global(len: <built-in function len>)  :: Function(<built-in function len>)\n",
      "    #   $0.3 = call $0.1(a)  :: (array(float32, 1d, A),) -> int64\n",
      "    #   N = $0.3  :: int64\n",
      "\n",
      "    N = len(a)\n",
      "\n",
      "# --- LINE 5 --- \n",
      "\n",
      "\n",
      "\n",
      "    # --- LINE 6 --- \n",
      "    #   $const0.4 = const(int, 0)  :: int64\n",
      "    #   result = $const0.4  :: float64\n",
      "    #   jump 18\n",
      "    # label 18\n",
      "\n",
      "    result = 0\n",
      "\n",
      "    # --- LINE 7 --- \n",
      "    #   jump 21\n",
      "    # label 21\n",
      "    #   $21.1 = global(range: <class 'range'>)  :: Function(<class 'range'>)\n",
      "    #   $21.3 = call $21.1(N)  :: (int64,) -> range_state_int64\n",
      "    #   del N\n",
      "    #   del $21.1\n",
      "    #   $21.4 = getiter(value=$21.3)  :: range_iter_int64\n",
      "    #   del $21.3\n",
      "    #   $phi31.1 = $21.4  :: range_iter_int64\n",
      "    #   del $21.4\n",
      "    #   jump 31\n",
      "    # label 31\n",
      "    #   $31.2 = iternext(value=$phi31.1)  :: pair<int64, bool>\n",
      "    #   $31.3 = pair_first(value=$31.2)  :: int64\n",
      "    #   $31.4 = pair_second(value=$31.2)  :: bool\n",
      "    #   del $31.2\n",
      "    #   $phi34.1 = $31.3  :: int64\n",
      "    #   del $31.3\n",
      "    #   branch $31.4, 34, 58\n",
      "    # label 34\n",
      "    #   del $31.4\n",
      "    #   i = $phi34.1  :: int64\n",
      "    #   del $phi34.1\n",
      "    #   del i\n",
      "    #   del $const34.6\n",
      "    #   del $34.5\n",
      "    #   del $34.7\n",
      "    #   del $34.8\n",
      "\n",
      "    for i in range(N):\n",
      "\n",
      "        # --- LINE 8 --- \n",
      "        #   $34.5 = getitem(index=i, value=a)  :: float32\n",
      "        #   $const34.6 = const(int, 2)  :: int64\n",
      "        #   $34.7 = $34.5 ** $const34.6  :: float32\n",
      "        #   $34.8 = inplace_binop(immutable_fn=+, rhs=$34.7, fn=+=, static_rhs=<object object at 0x7f99679943c0>, static_lhs=<object object at 0x7f99679943c0>, lhs=result)  :: float64\n",
      "        #   result = $34.8  :: float64\n",
      "        #   jump 31\n",
      "        # label 58\n",
      "        #   del a\n",
      "        #   del $phi34.1\n",
      "        #   del $phi31.1\n",
      "        #   del $31.4\n",
      "        #   jump 59\n",
      "        # label 59\n",
      "        #   del result\n",
      "\n",
      "        result += a[i] ** 2\n",
      "\n",
      "# --- LINE 9 --- \n",
      "\n",
      "\n",
      "\n",
      "    # --- LINE 10 --- \n",
      "    #   $59.2 = cast(value=result)  :: float32\n",
      "    #   return $59.2\n",
      "\n",
      "    return result\n",
      "\n",
      "\n",
      "================================================================================\n"
     ]
    }
   ],
   "source": [
    "sum_sq.inspect_types()"
   ]
  },
  {
   "cell_type": "code",
   "execution_count": 45,
   "metadata": {
    "collapsed": true
   },
   "outputs": [],
   "source": [
    "@nb.jit\n",
    "def concatenate(strings):\n",
    "    result = ''\n",
    "    for s in strings:\n",
    "        result += s\n",
    "    return result"
   ]
  },
  {
   "cell_type": "code",
   "execution_count": 48,
   "metadata": {
    "collapsed": false,
    "scrolled": true
   },
   "outputs": [
    {
     "name": "stdout",
     "output_type": "stream",
     "text": [
      "concatenate (reflected list(str),)\n",
      "--------------------------------------------------------------------------------\n",
      "# File: <ipython-input-45-a826ad379539>\n",
      "# --- LINE 1 --- \n",
      "# label 0\n",
      "#   del $const0.1\n",
      "\n",
      "@nb.jit\n",
      "\n",
      "# --- LINE 2 --- \n",
      "\n",
      "def concatenate(strings):\n",
      "\n",
      "    # --- LINE 3 --- \n",
      "    #   strings = arg(0, name=strings)  :: pyobject\n",
      "    #   $const0.1 = const(str, )  :: pyobject\n",
      "    #   result = $const0.1  :: pyobject\n",
      "    #   jump 6\n",
      "    # label 6\n",
      "\n",
      "    result = ''\n",
      "\n",
      "    # --- LINE 4 --- \n",
      "    #   jump 9\n",
      "    # label 9\n",
      "    #   $17 = const(LiftedLoop, LiftedLoop(<function concatenate at 0x7f9939c032f0>))  :: XXX Lifted Loop XXX\n",
      "    #   $18 = call $17(result, strings)  :: XXX Lifted Loop XXX\n",
      "    #   del strings\n",
      "    #   del $17\n",
      "    #   result = static_getitem(index_var=None, index=0, value=$18)  :: pyobject\n",
      "    #   del $18\n",
      "    #   jump 33\n",
      "\n",
      "    for s in strings:\n",
      "\n",
      "        # --- LINE 5 --- \n",
      "        # label 33\n",
      "        #   del result\n",
      "\n",
      "        result += s\n",
      "\n",
      "    # --- LINE 6 --- \n",
      "    #   $33.2 = cast(value=result)  :: pyobject\n",
      "    #   return $33.2\n",
      "\n",
      "    return result\n",
      "\n",
      "# The function contains lifted loops\n",
      "# Loop at line 4\n",
      "# Has 1 overloads\n",
      "# File: <ipython-input-45-a826ad379539>\n",
      "# --- LINE 1 --- \n",
      "\n",
      "@nb.jit\n",
      "\n",
      "# --- LINE 2 --- \n",
      "\n",
      "def concatenate(strings):\n",
      "\n",
      "    # --- LINE 3 --- \n",
      "\n",
      "    result = ''\n",
      "\n",
      "    # --- LINE 4 --- \n",
      "    # label 8\n",
      "    #   result = arg(0, name=result)  :: pyobject\n",
      "    #   strings = arg(1, name=strings)  :: pyobject\n",
      "    #   jump 9\n",
      "    # label 9\n",
      "    #   $9.2 = getiter(value=strings)  :: pyobject\n",
      "    #   del strings\n",
      "    #   $phi13.1 = $9.2  :: pyobject\n",
      "    #   del $9.2\n",
      "    #   jump 13\n",
      "    # label 13\n",
      "    #   $13.2 = iternext(value=$phi13.1)  :: pyobject\n",
      "    #   $13.3 = pair_first(value=$13.2)  :: pyobject\n",
      "    #   $13.4 = pair_second(value=$13.2)  :: pyobject\n",
      "    #   del $13.2\n",
      "    #   $phi16.1 = $13.3  :: pyobject\n",
      "    #   del $13.3\n",
      "    #   branch $13.4, 16, 32\n",
      "    # label 16\n",
      "    #   del $13.4\n",
      "    #   s = $phi16.1  :: pyobject\n",
      "    #   del $phi16.1\n",
      "    #   del s\n",
      "    #   del $16.4\n",
      "    # label 33\n",
      "    #   $16 = build_tuple(items=[Var(result, <ipython-input-45-a826ad379539> (3))])  :: pyobject\n",
      "    #   del result\n",
      "    #   return $16\n",
      "\n",
      "    for s in strings:\n",
      "\n",
      "        # --- LINE 5 --- \n",
      "        #   $16.4 = inplace_binop(immutable_fn=+, rhs=s, fn=+=, static_rhs=<object object at 0x7f99679943c0>, static_lhs=<object object at 0x7f99679943c0>, lhs=result)  :: pyobject\n",
      "        #   result = $16.4  :: pyobject\n",
      "        #   jump 13\n",
      "        # label 32\n",
      "        #   del $phi16.1\n",
      "        #   del $phi13.1\n",
      "        #   del $13.4\n",
      "        #   jump 33\n",
      "\n",
      "        result += s\n",
      "\n",
      "    # --- LINE 6 --- \n",
      "\n",
      "    return result\n",
      "\n",
      "\n",
      "\n",
      "================================================================================\n"
     ]
    }
   ],
   "source": [
    "concatenate(['hello', 'world'])\n",
    "concatenate.signatures\n",
    "concatenate.inspect_types()"
   ]
  },
  {
   "cell_type": "code",
   "execution_count": 50,
   "metadata": {
    "collapsed": false
   },
   "outputs": [
    {
     "name": "stdout",
     "output_type": "stream",
     "text": [
      "10000 loops, best of 3: 111 µs per loop\n"
     ]
    }
   ],
   "source": [
    "x = ['hello'] * 1000\n",
    "%timeit concatenate.py_func(x)"
   ]
  },
  {
   "cell_type": "code",
   "execution_count": 51,
   "metadata": {
    "collapsed": false
   },
   "outputs": [
    {
     "name": "stdout",
     "output_type": "stream",
     "text": [
      "1000 loops, best of 3: 317 µs per loop\n"
     ]
    }
   ],
   "source": [
    "%timeit concatenate(x)"
   ]
  },
  {
   "cell_type": "code",
   "execution_count": 53,
   "metadata": {
    "collapsed": false
   },
   "outputs": [
    {
     "ename": "TypingError",
     "evalue": "Failed at nopython (nopython frontend)\nInvalid usage of += with parameters (const(''), str)\n * parameterized\nFile \"<ipython-input-53-aa35a1ec2403>\", line 5\n[1] During: typing of intrinsic-call at <ipython-input-53-aa35a1ec2403> (5)",
     "output_type": "error",
     "traceback": [
      "\u001b[0;31m---------------------------------------------------------------------------\u001b[0m",
      "\u001b[0;31mTypingError\u001b[0m                               Traceback (most recent call last)",
      "\u001b[0;32m<ipython-input-53-aa35a1ec2403>\u001b[0m in \u001b[0;36m<module>\u001b[0;34m()\u001b[0m\n\u001b[1;32m      5\u001b[0m         \u001b[0mresult\u001b[0m \u001b[0;34m+=\u001b[0m \u001b[0ms\u001b[0m\u001b[0;34m\u001b[0m\u001b[0m\n\u001b[1;32m      6\u001b[0m     \u001b[0;32mreturn\u001b[0m \u001b[0mresult\u001b[0m\u001b[0;34m\u001b[0m\u001b[0m\n\u001b[0;32m----> 7\u001b[0;31m \u001b[0mconcatenate\u001b[0m\u001b[0;34m(\u001b[0m\u001b[0mx\u001b[0m\u001b[0;34m)\u001b[0m\u001b[0;34m\u001b[0m\u001b[0m\n\u001b[0m",
      "\u001b[0;32m/home/gabriele/anaconda/envs/hperf/lib/python3.5/site-packages/numba/dispatcher.py\u001b[0m in \u001b[0;36m_compile_for_args\u001b[0;34m(self, *args, **kws)\u001b[0m\n\u001b[1;32m    307\u001b[0m                                 for i, err in failed_args))\n\u001b[1;32m    308\u001b[0m                 \u001b[0me\u001b[0m\u001b[0;34m.\u001b[0m\u001b[0mpatch_message\u001b[0m\u001b[0;34m(\u001b[0m\u001b[0mmsg\u001b[0m\u001b[0;34m)\u001b[0m\u001b[0;34m\u001b[0m\u001b[0m\n\u001b[0;32m--> 309\u001b[0;31m             \u001b[0;32mraise\u001b[0m \u001b[0me\u001b[0m\u001b[0;34m\u001b[0m\u001b[0m\n\u001b[0m\u001b[1;32m    310\u001b[0m \u001b[0;34m\u001b[0m\u001b[0m\n\u001b[1;32m    311\u001b[0m     \u001b[0;32mdef\u001b[0m \u001b[0minspect_llvm\u001b[0m\u001b[0;34m(\u001b[0m\u001b[0mself\u001b[0m\u001b[0;34m,\u001b[0m \u001b[0msignature\u001b[0m\u001b[0;34m=\u001b[0m\u001b[0;32mNone\u001b[0m\u001b[0;34m)\u001b[0m\u001b[0;34m:\u001b[0m\u001b[0;34m\u001b[0m\u001b[0m\n",
      "\u001b[0;32m/home/gabriele/anaconda/envs/hperf/lib/python3.5/site-packages/numba/dispatcher.py\u001b[0m in \u001b[0;36m_compile_for_args\u001b[0;34m(self, *args, **kws)\u001b[0m\n\u001b[1;32m    284\u001b[0m                 \u001b[0margtypes\u001b[0m\u001b[0;34m.\u001b[0m\u001b[0mappend\u001b[0m\u001b[0;34m(\u001b[0m\u001b[0mself\u001b[0m\u001b[0;34m.\u001b[0m\u001b[0mtypeof_pyval\u001b[0m\u001b[0;34m(\u001b[0m\u001b[0ma\u001b[0m\u001b[0;34m)\u001b[0m\u001b[0;34m)\u001b[0m\u001b[0;34m\u001b[0m\u001b[0m\n\u001b[1;32m    285\u001b[0m         \u001b[0;32mtry\u001b[0m\u001b[0;34m:\u001b[0m\u001b[0;34m\u001b[0m\u001b[0m\n\u001b[0;32m--> 286\u001b[0;31m             \u001b[0;32mreturn\u001b[0m \u001b[0mself\u001b[0m\u001b[0;34m.\u001b[0m\u001b[0mcompile\u001b[0m\u001b[0;34m(\u001b[0m\u001b[0mtuple\u001b[0m\u001b[0;34m(\u001b[0m\u001b[0margtypes\u001b[0m\u001b[0;34m)\u001b[0m\u001b[0;34m)\u001b[0m\u001b[0;34m\u001b[0m\u001b[0m\n\u001b[0m\u001b[1;32m    287\u001b[0m         \u001b[0;32mexcept\u001b[0m \u001b[0merrors\u001b[0m\u001b[0;34m.\u001b[0m\u001b[0mTypingError\u001b[0m \u001b[0;32mas\u001b[0m \u001b[0me\u001b[0m\u001b[0;34m:\u001b[0m\u001b[0;34m\u001b[0m\u001b[0m\n\u001b[1;32m    288\u001b[0m             \u001b[0;31m# Intercept typing error that may be due to an argument\u001b[0m\u001b[0;34m\u001b[0m\u001b[0;34m\u001b[0m\u001b[0m\n",
      "\u001b[0;32m/home/gabriele/anaconda/envs/hperf/lib/python3.5/site-packages/numba/dispatcher.py\u001b[0m in \u001b[0;36mcompile\u001b[0;34m(self, sig)\u001b[0m\n\u001b[1;32m    530\u001b[0m \u001b[0;34m\u001b[0m\u001b[0m\n\u001b[1;32m    531\u001b[0m             \u001b[0mself\u001b[0m\u001b[0;34m.\u001b[0m\u001b[0m_cache_misses\u001b[0m\u001b[0;34m[\u001b[0m\u001b[0msig\u001b[0m\u001b[0;34m]\u001b[0m \u001b[0;34m+=\u001b[0m \u001b[0;36m1\u001b[0m\u001b[0;34m\u001b[0m\u001b[0m\n\u001b[0;32m--> 532\u001b[0;31m             \u001b[0mcres\u001b[0m \u001b[0;34m=\u001b[0m \u001b[0mself\u001b[0m\u001b[0;34m.\u001b[0m\u001b[0m_compiler\u001b[0m\u001b[0;34m.\u001b[0m\u001b[0mcompile\u001b[0m\u001b[0;34m(\u001b[0m\u001b[0margs\u001b[0m\u001b[0;34m,\u001b[0m \u001b[0mreturn_type\u001b[0m\u001b[0;34m)\u001b[0m\u001b[0;34m\u001b[0m\u001b[0m\n\u001b[0m\u001b[1;32m    533\u001b[0m             \u001b[0mself\u001b[0m\u001b[0;34m.\u001b[0m\u001b[0madd_overload\u001b[0m\u001b[0;34m(\u001b[0m\u001b[0mcres\u001b[0m\u001b[0;34m)\u001b[0m\u001b[0;34m\u001b[0m\u001b[0m\n\u001b[1;32m    534\u001b[0m             \u001b[0mself\u001b[0m\u001b[0;34m.\u001b[0m\u001b[0m_cache\u001b[0m\u001b[0;34m.\u001b[0m\u001b[0msave_overload\u001b[0m\u001b[0;34m(\u001b[0m\u001b[0msig\u001b[0m\u001b[0;34m,\u001b[0m \u001b[0mcres\u001b[0m\u001b[0;34m)\u001b[0m\u001b[0;34m\u001b[0m\u001b[0m\n",
      "\u001b[0;32m/home/gabriele/anaconda/envs/hperf/lib/python3.5/site-packages/numba/dispatcher.py\u001b[0m in \u001b[0;36mcompile\u001b[0;34m(self, args, return_type)\u001b[0m\n\u001b[1;32m     79\u001b[0m                                       \u001b[0mimpl\u001b[0m\u001b[0;34m,\u001b[0m\u001b[0;34m\u001b[0m\u001b[0m\n\u001b[1;32m     80\u001b[0m                                       \u001b[0margs\u001b[0m\u001b[0;34m=\u001b[0m\u001b[0margs\u001b[0m\u001b[0;34m,\u001b[0m \u001b[0mreturn_type\u001b[0m\u001b[0;34m=\u001b[0m\u001b[0mreturn_type\u001b[0m\u001b[0;34m,\u001b[0m\u001b[0;34m\u001b[0m\u001b[0m\n\u001b[0;32m---> 81\u001b[0;31m                                       flags=flags, locals=self.locals)\n\u001b[0m\u001b[1;32m     82\u001b[0m         \u001b[0;31m# Check typing error if object mode is used\u001b[0m\u001b[0;34m\u001b[0m\u001b[0;34m\u001b[0m\u001b[0m\n\u001b[1;32m     83\u001b[0m         \u001b[0;32mif\u001b[0m \u001b[0mcres\u001b[0m\u001b[0;34m.\u001b[0m\u001b[0mtyping_error\u001b[0m \u001b[0;32mis\u001b[0m \u001b[0;32mnot\u001b[0m \u001b[0;32mNone\u001b[0m \u001b[0;32mand\u001b[0m \u001b[0;32mnot\u001b[0m \u001b[0mflags\u001b[0m\u001b[0;34m.\u001b[0m\u001b[0menable_pyobject\u001b[0m\u001b[0;34m:\u001b[0m\u001b[0;34m\u001b[0m\u001b[0m\n",
      "\u001b[0;32m/home/gabriele/anaconda/envs/hperf/lib/python3.5/site-packages/numba/compiler.py\u001b[0m in \u001b[0;36mcompile_extra\u001b[0;34m(typingctx, targetctx, func, args, return_type, flags, locals, library)\u001b[0m\n\u001b[1;32m    691\u001b[0m     pipeline = Pipeline(typingctx, targetctx, library,\n\u001b[1;32m    692\u001b[0m                         args, return_type, flags, locals)\n\u001b[0;32m--> 693\u001b[0;31m     \u001b[0;32mreturn\u001b[0m \u001b[0mpipeline\u001b[0m\u001b[0;34m.\u001b[0m\u001b[0mcompile_extra\u001b[0m\u001b[0;34m(\u001b[0m\u001b[0mfunc\u001b[0m\u001b[0;34m)\u001b[0m\u001b[0;34m\u001b[0m\u001b[0m\n\u001b[0m\u001b[1;32m    694\u001b[0m \u001b[0;34m\u001b[0m\u001b[0m\n\u001b[1;32m    695\u001b[0m \u001b[0;34m\u001b[0m\u001b[0m\n",
      "\u001b[0;32m/home/gabriele/anaconda/envs/hperf/lib/python3.5/site-packages/numba/compiler.py\u001b[0m in \u001b[0;36mcompile_extra\u001b[0;34m(self, func)\u001b[0m\n\u001b[1;32m    348\u001b[0m         \u001b[0mself\u001b[0m\u001b[0;34m.\u001b[0m\u001b[0mlifted\u001b[0m \u001b[0;34m=\u001b[0m \u001b[0;34m(\u001b[0m\u001b[0;34m)\u001b[0m\u001b[0;34m\u001b[0m\u001b[0m\n\u001b[1;32m    349\u001b[0m         \u001b[0mself\u001b[0m\u001b[0;34m.\u001b[0m\u001b[0mlifted_from\u001b[0m \u001b[0;34m=\u001b[0m \u001b[0;32mNone\u001b[0m\u001b[0;34m\u001b[0m\u001b[0m\n\u001b[0;32m--> 350\u001b[0;31m         \u001b[0;32mreturn\u001b[0m \u001b[0mself\u001b[0m\u001b[0;34m.\u001b[0m\u001b[0m_compile_bytecode\u001b[0m\u001b[0;34m(\u001b[0m\u001b[0;34m)\u001b[0m\u001b[0;34m\u001b[0m\u001b[0m\n\u001b[0m\u001b[1;32m    351\u001b[0m \u001b[0;34m\u001b[0m\u001b[0m\n\u001b[1;32m    352\u001b[0m     \u001b[0;32mdef\u001b[0m \u001b[0mcompile_ir\u001b[0m\u001b[0;34m(\u001b[0m\u001b[0mself\u001b[0m\u001b[0;34m,\u001b[0m \u001b[0mfunc_ir\u001b[0m\u001b[0;34m,\u001b[0m \u001b[0mlifted\u001b[0m\u001b[0;34m=\u001b[0m\u001b[0;34m(\u001b[0m\u001b[0;34m)\u001b[0m\u001b[0;34m,\u001b[0m \u001b[0mlifted_from\u001b[0m\u001b[0;34m=\u001b[0m\u001b[0;32mNone\u001b[0m\u001b[0;34m)\u001b[0m\u001b[0;34m:\u001b[0m\u001b[0;34m\u001b[0m\u001b[0m\n",
      "\u001b[0;32m/home/gabriele/anaconda/envs/hperf/lib/python3.5/site-packages/numba/compiler.py\u001b[0m in \u001b[0;36m_compile_bytecode\u001b[0;34m(self)\u001b[0m\n\u001b[1;32m    656\u001b[0m         \"\"\"\n\u001b[1;32m    657\u001b[0m         \u001b[0;32massert\u001b[0m \u001b[0mself\u001b[0m\u001b[0;34m.\u001b[0m\u001b[0mfunc_ir\u001b[0m \u001b[0;32mis\u001b[0m \u001b[0;32mNone\u001b[0m\u001b[0;34m\u001b[0m\u001b[0m\n\u001b[0;32m--> 658\u001b[0;31m         \u001b[0;32mreturn\u001b[0m \u001b[0mself\u001b[0m\u001b[0;34m.\u001b[0m\u001b[0m_compile_core\u001b[0m\u001b[0;34m(\u001b[0m\u001b[0;34m)\u001b[0m\u001b[0;34m\u001b[0m\u001b[0m\n\u001b[0m\u001b[1;32m    659\u001b[0m \u001b[0;34m\u001b[0m\u001b[0m\n\u001b[1;32m    660\u001b[0m     \u001b[0;32mdef\u001b[0m \u001b[0m_compile_ir\u001b[0m\u001b[0;34m(\u001b[0m\u001b[0mself\u001b[0m\u001b[0;34m)\u001b[0m\u001b[0;34m:\u001b[0m\u001b[0;34m\u001b[0m\u001b[0m\n",
      "\u001b[0;32m/home/gabriele/anaconda/envs/hperf/lib/python3.5/site-packages/numba/compiler.py\u001b[0m in \u001b[0;36m_compile_core\u001b[0;34m(self)\u001b[0m\n\u001b[1;32m    643\u001b[0m \u001b[0;34m\u001b[0m\u001b[0m\n\u001b[1;32m    644\u001b[0m         \u001b[0mpm\u001b[0m\u001b[0;34m.\u001b[0m\u001b[0mfinalize\u001b[0m\u001b[0;34m(\u001b[0m\u001b[0;34m)\u001b[0m\u001b[0;34m\u001b[0m\u001b[0m\n\u001b[0;32m--> 645\u001b[0;31m         \u001b[0mres\u001b[0m \u001b[0;34m=\u001b[0m \u001b[0mpm\u001b[0m\u001b[0;34m.\u001b[0m\u001b[0mrun\u001b[0m\u001b[0;34m(\u001b[0m\u001b[0mself\u001b[0m\u001b[0;34m.\u001b[0m\u001b[0mstatus\u001b[0m\u001b[0;34m)\u001b[0m\u001b[0;34m\u001b[0m\u001b[0m\n\u001b[0m\u001b[1;32m    646\u001b[0m         \u001b[0;32mif\u001b[0m \u001b[0mres\u001b[0m \u001b[0;32mis\u001b[0m \u001b[0;32mnot\u001b[0m \u001b[0;32mNone\u001b[0m\u001b[0;34m:\u001b[0m\u001b[0;34m\u001b[0m\u001b[0m\n\u001b[1;32m    647\u001b[0m             \u001b[0;31m# Early pipeline completion\u001b[0m\u001b[0;34m\u001b[0m\u001b[0;34m\u001b[0m\u001b[0m\n",
      "\u001b[0;32m/home/gabriele/anaconda/envs/hperf/lib/python3.5/site-packages/numba/compiler.py\u001b[0m in \u001b[0;36mrun\u001b[0;34m(self, status)\u001b[0m\n\u001b[1;32m    234\u001b[0m                     \u001b[0;31m# No more fallback pipelines?\u001b[0m\u001b[0;34m\u001b[0m\u001b[0;34m\u001b[0m\u001b[0m\n\u001b[1;32m    235\u001b[0m                     \u001b[0;32mif\u001b[0m \u001b[0mis_final_pipeline\u001b[0m\u001b[0;34m:\u001b[0m\u001b[0;34m\u001b[0m\u001b[0m\n\u001b[0;32m--> 236\u001b[0;31m                         \u001b[0;32mraise\u001b[0m \u001b[0mpatched_exception\u001b[0m\u001b[0;34m\u001b[0m\u001b[0m\n\u001b[0m\u001b[1;32m    237\u001b[0m                     \u001b[0;31m# Go to next fallback pipeline\u001b[0m\u001b[0;34m\u001b[0m\u001b[0;34m\u001b[0m\u001b[0m\n\u001b[1;32m    238\u001b[0m                     \u001b[0;32melse\u001b[0m\u001b[0;34m:\u001b[0m\u001b[0;34m\u001b[0m\u001b[0m\n",
      "\u001b[0;32m/home/gabriele/anaconda/envs/hperf/lib/python3.5/site-packages/numba/compiler.py\u001b[0m in \u001b[0;36mrun\u001b[0;34m(self, status)\u001b[0m\n\u001b[1;32m    226\u001b[0m                 \u001b[0;32mtry\u001b[0m\u001b[0;34m:\u001b[0m\u001b[0;34m\u001b[0m\u001b[0m\n\u001b[1;32m    227\u001b[0m                     \u001b[0mevent\u001b[0m\u001b[0;34m(\u001b[0m\u001b[0mstage_name\u001b[0m\u001b[0;34m)\u001b[0m\u001b[0;34m\u001b[0m\u001b[0m\n\u001b[0;32m--> 228\u001b[0;31m                     \u001b[0mstage\u001b[0m\u001b[0;34m(\u001b[0m\u001b[0;34m)\u001b[0m\u001b[0;34m\u001b[0m\u001b[0m\n\u001b[0m\u001b[1;32m    229\u001b[0m                 \u001b[0;32mexcept\u001b[0m \u001b[0m_EarlyPipelineCompletion\u001b[0m \u001b[0;32mas\u001b[0m \u001b[0me\u001b[0m\u001b[0;34m:\u001b[0m\u001b[0;34m\u001b[0m\u001b[0m\n\u001b[1;32m    230\u001b[0m                     \u001b[0;32mreturn\u001b[0m \u001b[0me\u001b[0m\u001b[0;34m.\u001b[0m\u001b[0mresult\u001b[0m\u001b[0;34m\u001b[0m\u001b[0m\n",
      "\u001b[0;32m/home/gabriele/anaconda/envs/hperf/lib/python3.5/site-packages/numba/compiler.py\u001b[0m in \u001b[0;36mstage_nopython_frontend\u001b[0;34m(self)\u001b[0m\n\u001b[1;32m    440\u001b[0m                 \u001b[0mself\u001b[0m\u001b[0;34m.\u001b[0m\u001b[0margs\u001b[0m\u001b[0;34m,\u001b[0m\u001b[0;34m\u001b[0m\u001b[0m\n\u001b[1;32m    441\u001b[0m                 \u001b[0mself\u001b[0m\u001b[0;34m.\u001b[0m\u001b[0mreturn_type\u001b[0m\u001b[0;34m,\u001b[0m\u001b[0;34m\u001b[0m\u001b[0m\n\u001b[0;32m--> 442\u001b[0;31m                 self.locals)\n\u001b[0m\u001b[1;32m    443\u001b[0m \u001b[0;34m\u001b[0m\u001b[0m\n\u001b[1;32m    444\u001b[0m         with self.fallback_context('Function \"%s\" has invalid return type'\n",
      "\u001b[0;32m/home/gabriele/anaconda/envs/hperf/lib/python3.5/site-packages/numba/compiler.py\u001b[0m in \u001b[0;36mtype_inference_stage\u001b[0;34m(typingctx, interp, args, return_type, locals)\u001b[0m\n\u001b[1;32m    792\u001b[0m \u001b[0;34m\u001b[0m\u001b[0m\n\u001b[1;32m    793\u001b[0m         \u001b[0minfer\u001b[0m\u001b[0;34m.\u001b[0m\u001b[0mbuild_constraint\u001b[0m\u001b[0;34m(\u001b[0m\u001b[0;34m)\u001b[0m\u001b[0;34m\u001b[0m\u001b[0m\n\u001b[0;32m--> 794\u001b[0;31m         \u001b[0minfer\u001b[0m\u001b[0;34m.\u001b[0m\u001b[0mpropagate\u001b[0m\u001b[0;34m(\u001b[0m\u001b[0;34m)\u001b[0m\u001b[0;34m\u001b[0m\u001b[0m\n\u001b[0m\u001b[1;32m    795\u001b[0m         \u001b[0mtypemap\u001b[0m\u001b[0;34m,\u001b[0m \u001b[0mrestype\u001b[0m\u001b[0;34m,\u001b[0m \u001b[0mcalltypes\u001b[0m \u001b[0;34m=\u001b[0m \u001b[0minfer\u001b[0m\u001b[0;34m.\u001b[0m\u001b[0munify\u001b[0m\u001b[0;34m(\u001b[0m\u001b[0;34m)\u001b[0m\u001b[0;34m\u001b[0m\u001b[0m\n\u001b[1;32m    796\u001b[0m \u001b[0;34m\u001b[0m\u001b[0m\n",
      "\u001b[0;32m/home/gabriele/anaconda/envs/hperf/lib/python3.5/site-packages/numba/typeinfer.py\u001b[0m in \u001b[0;36mpropagate\u001b[0;34m(self, raise_errors)\u001b[0m\n\u001b[1;32m    765\u001b[0m         \u001b[0;32mif\u001b[0m \u001b[0merrors\u001b[0m\u001b[0;34m:\u001b[0m\u001b[0;34m\u001b[0m\u001b[0m\n\u001b[1;32m    766\u001b[0m             \u001b[0;32mif\u001b[0m \u001b[0mraise_errors\u001b[0m\u001b[0;34m:\u001b[0m\u001b[0;34m\u001b[0m\u001b[0m\n\u001b[0;32m--> 767\u001b[0;31m                 \u001b[0;32mraise\u001b[0m \u001b[0merrors\u001b[0m\u001b[0;34m[\u001b[0m\u001b[0;36m0\u001b[0m\u001b[0;34m]\u001b[0m\u001b[0;34m\u001b[0m\u001b[0m\n\u001b[0m\u001b[1;32m    768\u001b[0m             \u001b[0;32melse\u001b[0m\u001b[0;34m:\u001b[0m\u001b[0;34m\u001b[0m\u001b[0m\n\u001b[1;32m    769\u001b[0m                 \u001b[0;32mreturn\u001b[0m \u001b[0merrors\u001b[0m\u001b[0;34m\u001b[0m\u001b[0m\n",
      "\u001b[0;32m/home/gabriele/anaconda/envs/hperf/lib/python3.5/site-packages/numba/typeinfer.py\u001b[0m in \u001b[0;36mpropagate\u001b[0;34m(self, typeinfer)\u001b[0m\n\u001b[1;32m    126\u001b[0m                                                    lineno=loc.line):\n\u001b[1;32m    127\u001b[0m                 \u001b[0;32mtry\u001b[0m\u001b[0;34m:\u001b[0m\u001b[0;34m\u001b[0m\u001b[0m\n\u001b[0;32m--> 128\u001b[0;31m                     \u001b[0mconstraint\u001b[0m\u001b[0;34m(\u001b[0m\u001b[0mtypeinfer\u001b[0m\u001b[0;34m)\u001b[0m\u001b[0;34m\u001b[0m\u001b[0m\n\u001b[0m\u001b[1;32m    129\u001b[0m                 \u001b[0;32mexcept\u001b[0m \u001b[0mTypingError\u001b[0m \u001b[0;32mas\u001b[0m \u001b[0me\u001b[0m\u001b[0;34m:\u001b[0m\u001b[0;34m\u001b[0m\u001b[0m\n\u001b[1;32m    130\u001b[0m                     \u001b[0merrors\u001b[0m\u001b[0;34m.\u001b[0m\u001b[0mappend\u001b[0m\u001b[0;34m(\u001b[0m\u001b[0me\u001b[0m\u001b[0;34m)\u001b[0m\u001b[0;34m\u001b[0m\u001b[0m\n",
      "\u001b[0;32m/home/gabriele/anaconda/envs/hperf/lib/python3.5/site-packages/numba/typeinfer.py\u001b[0m in \u001b[0;36m__call__\u001b[0;34m(self, typeinfer)\u001b[0m\n\u001b[1;32m    435\u001b[0m     \u001b[0;32mdef\u001b[0m \u001b[0m__call__\u001b[0m\u001b[0;34m(\u001b[0m\u001b[0mself\u001b[0m\u001b[0;34m,\u001b[0m \u001b[0mtypeinfer\u001b[0m\u001b[0;34m)\u001b[0m\u001b[0;34m:\u001b[0m\u001b[0;34m\u001b[0m\u001b[0m\n\u001b[1;32m    436\u001b[0m         \u001b[0;32mwith\u001b[0m \u001b[0mnew_error_context\u001b[0m\u001b[0;34m(\u001b[0m\u001b[0;34m\"typing of intrinsic-call at {0}\"\u001b[0m\u001b[0;34m,\u001b[0m \u001b[0mself\u001b[0m\u001b[0;34m.\u001b[0m\u001b[0mloc\u001b[0m\u001b[0;34m)\u001b[0m\u001b[0;34m:\u001b[0m\u001b[0;34m\u001b[0m\u001b[0m\n\u001b[0;32m--> 437\u001b[0;31m             \u001b[0mself\u001b[0m\u001b[0;34m.\u001b[0m\u001b[0mresolve\u001b[0m\u001b[0;34m(\u001b[0m\u001b[0mtypeinfer\u001b[0m\u001b[0;34m,\u001b[0m \u001b[0mtypeinfer\u001b[0m\u001b[0;34m.\u001b[0m\u001b[0mtypevars\u001b[0m\u001b[0;34m,\u001b[0m \u001b[0mfnty\u001b[0m\u001b[0;34m=\u001b[0m\u001b[0mself\u001b[0m\u001b[0;34m.\u001b[0m\u001b[0mfunc\u001b[0m\u001b[0;34m)\u001b[0m\u001b[0;34m\u001b[0m\u001b[0m\n\u001b[0m\u001b[1;32m    438\u001b[0m \u001b[0;34m\u001b[0m\u001b[0m\n\u001b[1;32m    439\u001b[0m \u001b[0;34m\u001b[0m\u001b[0m\n",
      "\u001b[0;32m/home/gabriele/anaconda/envs/hperf/lib/python3.5/site-packages/numba/typeinfer.py\u001b[0m in \u001b[0;36mresolve\u001b[0;34m(self, typeinfer, typevars, fnty)\u001b[0m\n\u001b[1;32m    399\u001b[0m             \u001b[0mdesc\u001b[0m \u001b[0;34m=\u001b[0m \u001b[0mcontext\u001b[0m\u001b[0;34m.\u001b[0m\u001b[0mexplain_function_type\u001b[0m\u001b[0;34m(\u001b[0m\u001b[0mfnty\u001b[0m\u001b[0;34m)\u001b[0m\u001b[0;34m\u001b[0m\u001b[0m\n\u001b[1;32m    400\u001b[0m             \u001b[0mmsg\u001b[0m \u001b[0;34m=\u001b[0m \u001b[0;34m'\\n'\u001b[0m\u001b[0;34m.\u001b[0m\u001b[0mjoin\u001b[0m\u001b[0;34m(\u001b[0m\u001b[0;34m[\u001b[0m\u001b[0mhead\u001b[0m\u001b[0;34m,\u001b[0m \u001b[0mdesc\u001b[0m\u001b[0;34m]\u001b[0m\u001b[0;34m)\u001b[0m\u001b[0;34m\u001b[0m\u001b[0m\n\u001b[0;32m--> 401\u001b[0;31m             \u001b[0;32mraise\u001b[0m \u001b[0mTypingError\u001b[0m\u001b[0;34m(\u001b[0m\u001b[0mmsg\u001b[0m\u001b[0;34m,\u001b[0m \u001b[0mloc\u001b[0m\u001b[0;34m=\u001b[0m\u001b[0mself\u001b[0m\u001b[0;34m.\u001b[0m\u001b[0mloc\u001b[0m\u001b[0;34m)\u001b[0m\u001b[0;34m\u001b[0m\u001b[0m\n\u001b[0m\u001b[1;32m    402\u001b[0m \u001b[0;34m\u001b[0m\u001b[0m\n\u001b[1;32m    403\u001b[0m         \u001b[0mtypeinfer\u001b[0m\u001b[0;34m.\u001b[0m\u001b[0madd_type\u001b[0m\u001b[0;34m(\u001b[0m\u001b[0mself\u001b[0m\u001b[0;34m.\u001b[0m\u001b[0mtarget\u001b[0m\u001b[0;34m,\u001b[0m \u001b[0msig\u001b[0m\u001b[0;34m.\u001b[0m\u001b[0mreturn_type\u001b[0m\u001b[0;34m,\u001b[0m \u001b[0mloc\u001b[0m\u001b[0;34m=\u001b[0m\u001b[0mself\u001b[0m\u001b[0;34m.\u001b[0m\u001b[0mloc\u001b[0m\u001b[0;34m)\u001b[0m\u001b[0;34m\u001b[0m\u001b[0m\n",
      "\u001b[0;31mTypingError\u001b[0m: Failed at nopython (nopython frontend)\nInvalid usage of += with parameters (const(''), str)\n * parameterized\nFile \"<ipython-input-53-aa35a1ec2403>\", line 5\n[1] During: typing of intrinsic-call at <ipython-input-53-aa35a1ec2403> (5)"
     ]
    }
   ],
   "source": [
    "# Strings are mostly unsupported in nopython mode\n",
    "\n",
    "@nb.jit(nopython=True)\n",
    "def concatenate(strings):\n",
    "    result = ''\n",
    "    for s in strings:\n",
    "        result += s\n",
    "    return result\n",
    "\n",
    "concatenate(x)"
   ]
  },
  {
   "cell_type": "markdown",
   "metadata": {},
   "source": [
    "# Ufuncs and Gufuncs"
   ]
  },
  {
   "cell_type": "code",
   "execution_count": 65,
   "metadata": {
    "collapsed": true
   },
   "outputs": [],
   "source": [
    "# Numpy vectorization\n",
    "@np.vectorize\n",
    "def cantor_py(a, b):\n",
    "    return  int(0.5 * (a + b)*(a + b + 1) + b)"
   ]
  },
  {
   "cell_type": "code",
   "execution_count": 66,
   "metadata": {
    "collapsed": false
   },
   "outputs": [
    {
     "data": {
      "text/plain": [
       "array([ 8, 12])"
      ]
     },
     "execution_count": 66,
     "metadata": {},
     "output_type": "execute_result"
    }
   ],
   "source": [
    "cantor_py(np.array([1, 2]), 2)"
   ]
  },
  {
   "cell_type": "code",
   "execution_count": 67,
   "metadata": {
    "collapsed": true
   },
   "outputs": [],
   "source": [
    "# Numba vectorization\n",
    "@nb.vectorize\n",
    "def cantor(a, b):\n",
    "    return  int(0.5 * (a + b)*(a + b + 1) + b)"
   ]
  },
  {
   "cell_type": "code",
   "execution_count": 68,
   "metadata": {
    "collapsed": false
   },
   "outputs": [
    {
     "data": {
      "text/plain": [
       "array([ 8, 12])"
      ]
     },
     "execution_count": 68,
     "metadata": {},
     "output_type": "execute_result"
    }
   ],
   "source": [
    "cantor(np.array([1, 2]), 2)"
   ]
  },
  {
   "cell_type": "code",
   "execution_count": 69,
   "metadata": {
    "collapsed": true
   },
   "outputs": [],
   "source": [
    "x1 = np.random.rand(10000)\n",
    "x2 = np.random.rand(10000)"
   ]
  },
  {
   "cell_type": "code",
   "execution_count": 70,
   "metadata": {
    "collapsed": false
   },
   "outputs": [
    {
     "name": "stdout",
     "output_type": "stream",
     "text": [
      "100 loops, best of 3: 6.06 ms per loop\n"
     ]
    }
   ],
   "source": [
    "%timeit cantor_py(x1, x2)"
   ]
  },
  {
   "cell_type": "code",
   "execution_count": 71,
   "metadata": {
    "collapsed": false
   },
   "outputs": [
    {
     "name": "stdout",
     "output_type": "stream",
     "text": [
      "The slowest run took 3871.58 times longer than the fastest. This could mean that an intermediate result is being cached.\n",
      "100000 loops, best of 3: 15 µs per loop\n"
     ]
    }
   ],
   "source": [
    "%timeit cantor(x1, x2)"
   ]
  },
  {
   "cell_type": "code",
   "execution_count": 73,
   "metadata": {
    "collapsed": false
   },
   "outputs": [
    {
     "name": "stdout",
     "output_type": "stream",
     "text": [
      "The slowest run took 6.92 times longer than the fastest. This could mean that an intermediate result is being cached.\n",
      "10000 loops, best of 3: 57.1 µs per loop\n"
     ]
    }
   ],
   "source": [
    "%timeit (0.5 * (x1 + x2)*(x1 + x2 + 1) + x2).astype(int)"
   ]
  },
  {
   "cell_type": "markdown",
   "metadata": {},
   "source": [
    "# Matrix multiplication"
   ]
  },
  {
   "cell_type": "code",
   "execution_count": 101,
   "metadata": {
    "collapsed": false
   },
   "outputs": [
    {
     "data": {
      "text/plain": [
       "(3, 3)"
      ]
     },
     "execution_count": 101,
     "metadata": {},
     "output_type": "execute_result"
    }
   ],
   "source": [
    "a = np.random.rand(3, 3)\n",
    "b = np.random.rand(3, 3)\n",
    "\n",
    "c = np.matmul(a, b)\n",
    "c.shape"
   ]
  },
  {
   "cell_type": "code",
   "execution_count": 103,
   "metadata": {
    "collapsed": false
   },
   "outputs": [
    {
     "data": {
      "text/plain": [
       "True"
      ]
     },
     "execution_count": 103,
     "metadata": {},
     "output_type": "execute_result"
    }
   ],
   "source": [
    "a = np.random.rand(10, 3, 3)\n",
    "b = np.random.rand(10, 3, 3)\n",
    "\n",
    "c = np.matmul(a, b)\n",
    "c.shape\n",
    "\n",
    "np.allclose(np.matmul(a[0], b[0]), c[0])"
   ]
  },
  {
   "cell_type": "code",
   "execution_count": 106,
   "metadata": {
    "collapsed": false
   },
   "outputs": [
    {
     "data": {
      "text/plain": [
       "(10, 3, 3)"
      ]
     },
     "execution_count": 106,
     "metadata": {},
     "output_type": "execute_result"
    }
   ],
   "source": [
    "a = np.random.rand(10, 3, 3)\n",
    "b = np.random.rand(3, 3)\n",
    "c = np.matmul(a, b)\n",
    "c.shape"
   ]
  },
  {
   "cell_type": "code",
   "execution_count": 150,
   "metadata": {
    "collapsed": false
   },
   "outputs": [],
   "source": [
    "\n",
    "@nb.guvectorize(['float64[:], float64[:], float64[:]'], '(n), (n) -> ()')\n",
    "def euclidean(a, b, out):\n",
    "    N = a.shape[0]\n",
    "    out[0] = 0\n",
    "    for i in range(N):\n",
    "        out[0] += (a[i] - b[i])**2\n",
    "    "
   ]
  },
  {
   "cell_type": "code",
   "execution_count": 151,
   "metadata": {
    "collapsed": false
   },
   "outputs": [],
   "source": [
    "a = np.random.rand(2)\n",
    "b = np.random.rand(2)\n",
    "c = euclidean(a, b)\n",
    "\n",
    "a = np.random.rand(10, 2)\n",
    "b = np.random.rand(10, 2)\n",
    "c = euclidean(a, b)\n",
    "\n",
    "a = np.random.rand(10, 2)\n",
    "b = np.random.rand(2)\n",
    "c = euclidean(a, b)"
   ]
  },
  {
   "cell_type": "code",
   "execution_count": 152,
   "metadata": {
    "collapsed": true
   },
   "outputs": [],
   "source": [
    "a = np.random.rand(10000, 2)\n",
    "b = np.random.rand(10000, 2)"
   ]
  },
  {
   "cell_type": "code",
   "execution_count": 153,
   "metadata": {
    "collapsed": false
   },
   "outputs": [
    {
     "name": "stdout",
     "output_type": "stream",
     "text": [
      "The slowest run took 8.33 times longer than the fastest. This could mean that an intermediate result is being cached.\n",
      "1000 loops, best of 3: 200 µs per loop\n"
     ]
    }
   ],
   "source": [
    "%timeit ((a - b)**2).sum(axis=1)"
   ]
  },
  {
   "cell_type": "code",
   "execution_count": 154,
   "metadata": {
    "collapsed": false
   },
   "outputs": [
    {
     "name": "stdout",
     "output_type": "stream",
     "text": [
      "10000 loops, best of 3: 36.2 µs per loop\n"
     ]
    }
   ],
   "source": [
    "%timeit euclidean(a, b)"
   ]
  },
  {
   "cell_type": "code",
   "execution_count": 157,
   "metadata": {
    "collapsed": false
   },
   "outputs": [
    {
     "data": {
      "text/plain": [
       "True"
      ]
     },
     "execution_count": 157,
     "metadata": {},
     "output_type": "execute_result"
    }
   ],
   "source": [
    "np.allclose(((a - b)**2).sum(axis=1), euclidean(a, b))"
   ]
  },
  {
   "cell_type": "markdown",
   "metadata": {},
   "source": [
    "# JIT classes"
   ]
  },
  {
   "cell_type": "code",
   "execution_count": 242,
   "metadata": {
    "collapsed": false
   },
   "outputs": [
    {
     "name": "stdout",
     "output_type": "stream",
     "text": [
      "3\n",
      "2\n",
      "1\n"
     ]
    },
    {
     "data": {
      "text/plain": [
       "6"
      ]
     },
     "execution_count": 242,
     "metadata": {},
     "output_type": "execute_result"
    }
   ],
   "source": [
    "class Node:\n",
    "    def __init__(self, value):\n",
    "        self.next = None\n",
    "        self.value = value\n",
    "\n",
    "\n",
    "class LinkedList:\n",
    "    \n",
    "    def __init__(self):\n",
    "        self.head = None\n",
    "    \n",
    "    def push_front(self, value):\n",
    "        if self.head == None:\n",
    "            self.head = Node(value)\n",
    "        else:\n",
    "            # We replace the head\n",
    "            new_head = Node(value)\n",
    "            new_head.next = self.head\n",
    "            self.head = new_head\n",
    "    \n",
    "    def show(self):\n",
    "        node = self.head\n",
    "        while node is not None:\n",
    "            print(node.value)\n",
    "            node = node.next\n",
    "@nb.jit   \n",
    "def sum_list(lst):\n",
    "    result = 0\n",
    "    node = lst.head\n",
    "    while node is not None:\n",
    "        result += node.value\n",
    "        node = node.next\n",
    "    return result\n",
    "        \n",
    "lst = LinkedList()\n",
    "lst.push_front(1)\n",
    "lst.push_front(2)\n",
    "lst.push_front(3)\n",
    "lst.show()\n",
    "\n",
    "sum_list(lst)"
   ]
  },
  {
   "cell_type": "code",
   "execution_count": 246,
   "metadata": {
    "collapsed": false
   },
   "outputs": [
    {
     "name": "stdout",
     "output_type": "stream",
     "text": [
      "100 loops, best of 3: 1.75 ms per loop\n",
      "1000 loops, best of 3: 2.36 ms per loop\n"
     ]
    }
   ],
   "source": [
    "lst = LinkedList()\n",
    "[lst.push_front(i) for i in range(10000)]\n",
    "\n",
    "%timeit sum_list(lst)\n",
    "%timeit sum_list.py_func(lst)"
   ]
  },
  {
   "cell_type": "code",
   "execution_count": 247,
   "metadata": {
    "collapsed": false
   },
   "outputs": [
    {
     "name": "stdout",
     "output_type": "stream",
     "text": [
      "3\n",
      "2\n",
      "1\n"
     ]
    }
   ],
   "source": [
    "node_type = nb.deferred_type()\n",
    "\n",
    "node_spec = [\n",
    "    ('next', nb.optional(node_type)),\n",
    "    ('value', nb.int64)\n",
    "]\n",
    "\n",
    "@nb.jitclass(node_spec)\n",
    "class Node:\n",
    "    def __init__(self, value):\n",
    "        self.next = None\n",
    "        self.value = value\n",
    "\n",
    "node_type.define(Node.class_type.instance_type)\n",
    "\n",
    "\n",
    "ll_spec = [\n",
    "    ('head', nb.optional(Node.class_type.instance_type))\n",
    "]\n",
    "\n",
    "@nb.jitclass(ll_spec)\n",
    "class LinkedList:\n",
    "    \n",
    "    def __init__(self):\n",
    "        self.head = None\n",
    "    \n",
    "    def push_front(self, value):\n",
    "        if self.head is None:\n",
    "            self.head = Node(value)\n",
    "        else:\n",
    "            # We replace the head\n",
    "            new_head = Node(value)\n",
    "            new_head.next = self.head\n",
    "            self.head = new_head\n",
    "    \n",
    "    def show(self):\n",
    "        node = self.head\n",
    "        while node is not None:\n",
    "            print(node.value)\n",
    "            node = node.next\n",
    "\n",
    "\n",
    "lst = LinkedList()\n",
    "lst.push_front(1)\n",
    "lst.push_front(2)\n",
    "lst.push_front(3)\n",
    "lst.show()"
   ]
  },
  {
   "cell_type": "code",
   "execution_count": 248,
   "metadata": {
    "collapsed": false,
    "scrolled": true
   },
   "outputs": [
    {
     "name": "stdout",
     "output_type": "stream",
     "text": [
      "The slowest run took 128.84 times longer than the fastest. This could mean that an intermediate result is being cached.\n",
      "1000 loops, best of 3: 345 µs per loop\n",
      "100 loops, best of 3: 3.36 ms per loop\n"
     ]
    }
   ],
   "source": [
    "lst = LinkedList()\n",
    "[lst.push_front(i) for i in range(10000)]\n",
    "\n",
    "%timeit sum_list(lst)\n",
    "%timeit sum_list.py_func(lst)"
   ]
  },
  {
   "cell_type": "markdown",
   "metadata": {},
   "source": [
    "# Tips and Tricks"
   ]
  },
  {
   "cell_type": "code",
   "execution_count": 203,
   "metadata": {
    "collapsed": false
   },
   "outputs": [
    {
     "data": {
      "text/plain": [
       "[3, 7, 26]"
      ]
     },
     "execution_count": 203,
     "metadata": {},
     "output_type": "execute_result"
    }
   ],
   "source": [
    "a = [[0, 1, 2], \n",
    "      [3, 4], \n",
    "      [5, 6, 7, 8]]\n",
    "\n",
    "@nb.jit\n",
    "def sum_sublists(a):\n",
    "    result = [0]\n",
    "\n",
    "    for sublist in a:\n",
    "        result.append(sum(sublist))\n",
    "    \n",
    "    return result[1:]\n",
    "\n",
    "sum_sublists(a)"
   ]
  }
 ],
 "metadata": {
  "kernelspec": {
   "display_name": "Python 3",
   "language": "python",
   "name": "python3"
  },
  "language_info": {
   "codemirror_mode": {
    "name": "ipython",
    "version": 3
   },
   "file_extension": ".py",
   "mimetype": "text/x-python",
   "name": "python",
   "nbconvert_exporter": "python",
   "pygments_lexer": "ipython3",
   "version": "3.5.2"
  }
 },
 "nbformat": 4,
 "nbformat_minor": 2
}
