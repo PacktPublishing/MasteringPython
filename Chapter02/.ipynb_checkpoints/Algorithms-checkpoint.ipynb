{
 "cells": [
  {
   "cell_type": "code",
   "execution_count": 1,
   "metadata": {
    "collapsed": false
   },
   "outputs": [],
   "source": [
    "# This cell contains some utility functions to prepare and execute the benchmarks\n",
    "import timeit\n",
    "from statistics import median\n",
    "from random import choice\n",
    "from string import ascii_uppercase\n",
    "\n",
    "def random_string(length):\n",
    "    \"\"\"Produce a random string made of *length* uppercase ascii characters\"\"\"\n",
    "    return ''.join(choice(ascii_uppercase) for i in range(length))\n",
    "\n",
    "def print_scaling(stmt, setup, sizes=[10000, 20000, 30000], repeat=False, units='us'):\n",
    "    \"\"\"Print scaling information for the statement *stmt*, executed after *setup*.\n",
    "    \n",
    "    The *setup* and *stmt* arguments take a template string where \"{N}\"\n",
    "    will be replaced as the size of the input.\n",
    "    \n",
    "    The *repeat* flags determined if the setup needs to be run between\n",
    "    each test run.\n",
    "    \"\"\"\n",
    "    values = []\n",
    "    for size in sizes:\n",
    "        if repeat:\n",
    "            timings = timeit.repeat(stmt.format(N=size),\n",
    "                                    setup=setup.format(N=size),\n",
    "                                    number=1, repeat=1000)\n",
    "            values.append(min(timings))\n",
    "        else:\n",
    "            timings = timeit.repeat(stmt.format(N=size),\n",
    "                                    setup=setup.format(N=size),\n",
    "                                    number=1000, repeat=3)\n",
    "            values.append(min(t/1000 for t in timings))\n",
    "    unit_factor = {'us': 1e6,\n",
    "                   'ms': 1e3}[units]\n",
    "    \n",
    "    print(' | '.join('N = {} t = {:.2f} ({})'.format(n, t * unit_factor, units) for n, t in zip(sizes, values)))"
   ]
  },
  {
   "cell_type": "markdown",
   "metadata": {},
   "source": [
    "# Lists"
   ]
  },
  {
   "cell_type": "code",
   "execution_count": 2,
   "metadata": {
    "collapsed": false
   },
   "outputs": [
    {
     "name": "stdout",
     "output_type": "stream",
     "text": [
      "N = 10000 t = 0.12 (us) | N = 20000 t = 0.11 (us) | N = 30000 t = 0.12 (us)\n"
     ]
    }
   ],
   "source": [
    "print_scaling('collection.pop()',\n",
    "              setup='collection = list(range({N}))')"
   ]
  },
  {
   "cell_type": "code",
   "execution_count": 3,
   "metadata": {
    "collapsed": false
   },
   "outputs": [
    {
     "name": "stdout",
     "output_type": "stream",
     "text": [
      "N = 10000 t = 3.57 (us) | N = 20000 t = 7.27 (us) | N = 30000 t = 11.86 (us)\n"
     ]
    }
   ],
   "source": [
    "print_scaling('collection.pop(0)',\n",
    "              setup='collection = list(range({N}))')"
   ]
  },
  {
   "cell_type": "code",
   "execution_count": 4,
   "metadata": {
    "collapsed": false
   },
   "outputs": [
    {
     "name": "stdout",
     "output_type": "stream",
     "text": [
      "N = 10000 t = 0.07 (us) | N = 20000 t = 0.07 (us) | N = 30000 t = 0.08 (us)\n"
     ]
    }
   ],
   "source": [
    "print_scaling('collection.append(1)',\n",
    "                        setup='collection = list(range({N}))')"
   ]
  },
  {
   "cell_type": "code",
   "execution_count": 11,
   "metadata": {
    "collapsed": false
   },
   "outputs": [
    {
     "name": "stdout",
     "output_type": "stream",
     "text": [
      "N = 10000 t = 6.63 (us) | N = 20000 t = 14.96 (us) | N = 30000 t = 17.20 (us)\n"
     ]
    }
   ],
   "source": [
    "print_scaling('collection.insert(0, 1)',\n",
    "              setup='collection = list(range({N}))')"
   ]
  },
  {
   "cell_type": "code",
   "execution_count": 12,
   "metadata": {
    "collapsed": false
   },
   "outputs": [
    {
     "name": "stdout",
     "output_type": "stream",
     "text": [
      "N = 10000 t = 5.34 (us) | N = 20000 t = 9.81 (us) | N = 30000 t = 14.80 (us)\n"
     ]
    }
   ],
   "source": [
    "print_scaling('collection.insert(5000, 1)',\n",
    "              setup='collection = list(range({N}))')"
   ]
  },
  {
   "cell_type": "code",
   "execution_count": 13,
   "metadata": {
    "collapsed": false
   },
   "outputs": [
    {
     "name": "stdout",
     "output_type": "stream",
     "text": [
      "N = 10000 t = 90.16 (us) | N = 20000 t = 175.22 (us) | N = 30000 t = 261.10 (us)\n"
     ]
    }
   ],
   "source": [
    "setup_code = '''\n",
    "import random\n",
    "random.seed(42)\n",
    "\n",
    "collection = list(range({N}))\n",
    "'''\n",
    "print_scaling('collection.index(random.randint(0, {N}))',\n",
    "              setup=setup_code)"
   ]
  },
  {
   "cell_type": "code",
   "execution_count": 32,
   "metadata": {
    "collapsed": false
   },
   "outputs": [
    {
     "name": "stdout",
     "output_type": "stream",
     "text": [
      "N = 10000 t = 2.89 (us) | N = 20000 t = 3.46 (us) | N = 30000 t = 4.18 (us)\n"
     ]
    }
   ],
   "source": [
    "from bisect import bisect_left\n",
    "\n",
    "def index_bisect(a, x):\n",
    "    'Locate the leftmost value exactly equal to x'\n",
    "    i = bisect_left(a, x)\n",
    "    if i != len(a) and a[i] == x:\n",
    "        return i\n",
    "    raise ValueError\n",
    "\n",
    "setup_code = '''\n",
    "from __main__ import index_bisect\n",
    "\n",
    "import random\n",
    "random.seed(42)\n",
    "\n",
    "collection = list(range({N}))\n",
    "'''\n",
    "    \n",
    "print_scaling('index_bisect(collection, random.randint(0, {N}))',\n",
    "              setup=setup_code)"
   ]
  },
  {
   "cell_type": "markdown",
   "metadata": {},
   "source": [
    "# Deque"
   ]
  },
  {
   "cell_type": "code",
   "execution_count": 15,
   "metadata": {
    "collapsed": false
   },
   "outputs": [
    {
     "name": "stdout",
     "output_type": "stream",
     "text": [
      "N = 10000 t = 0.09 (us) | N = 20000 t = 0.08 (us) | N = 30000 t = 0.08 (us)\n"
     ]
    }
   ],
   "source": [
    "print_scaling('collection.pop()',\n",
    "              setup='from collections import deque; collection = deque(range({N}))')"
   ]
  },
  {
   "cell_type": "code",
   "execution_count": 16,
   "metadata": {
    "collapsed": false
   },
   "outputs": [
    {
     "name": "stdout",
     "output_type": "stream",
     "text": [
      "N = 10000 t = 0.11 (us) | N = 20000 t = 0.08 (us) | N = 30000 t = 0.09 (us)\n"
     ]
    }
   ],
   "source": [
    "print_scaling('collection.popleft()',\n",
    "              setup='from collections import deque; collection = deque(range({N}))')"
   ]
  },
  {
   "cell_type": "code",
   "execution_count": 17,
   "metadata": {
    "collapsed": false
   },
   "outputs": [
    {
     "name": "stdout",
     "output_type": "stream",
     "text": [
      "N = 10000 t = 0.20 (us) | N = 20000 t = 0.15 (us) | N = 30000 t = 0.16 (us)\n"
     ]
    }
   ],
   "source": [
    "print_scaling('collection.append(1)',\n",
    "              setup='from collections import deque; collection = deque(range({N}))')"
   ]
  },
  {
   "cell_type": "code",
   "execution_count": 18,
   "metadata": {
    "collapsed": false
   },
   "outputs": [
    {
     "name": "stdout",
     "output_type": "stream",
     "text": [
      "N = 10000 t = 0.15 (us) | N = 20000 t = 0.16 (us) | N = 30000 t = 0.15 (us)\n"
     ]
    }
   ],
   "source": [
    "print_scaling('collection.appendleft(1)',\n",
    "              setup='from collections import deque; collection = deque(range({N}))')"
   ]
  },
  {
   "cell_type": "code",
   "execution_count": 108,
   "metadata": {
    "collapsed": false
   },
   "outputs": [
    {
     "name": "stdout",
     "output_type": "stream",
     "text": [
      "N = 10000 t = 0.37 | N = 20000 t = 0.41 | N = 30000 t = 0.45\n",
      "N = 10000 t = 0.37 | N = 20000 t = 0.42 | N = 30000 t = 0.43\n",
      "N = 10000 t = 1.14 | N = 20000 t = 1.71 | N = 30000 t = 2.48\n"
     ]
    }
   ],
   "source": [
    "print_scaling('collection[0]',\n",
    "              setup='from collections import deque; collection = deque(range({N}))')\n",
    "print_scaling('collection[{N} - 1]',\n",
    "              setup='from collections import deque; collection = deque(range({N}))')\n",
    "print_scaling('collection[int({N}/2)]',\n",
    "              setup='from collections import deque; collection = deque(range({N}))')"
   ]
  },
  {
   "cell_type": "markdown",
   "metadata": {},
   "source": [
    "# Dictionaries"
   ]
  },
  {
   "cell_type": "code",
   "execution_count": 171,
   "metadata": {
    "collapsed": false
   },
   "outputs": [
    {
     "name": "stdout",
     "output_type": "stream",
     "text": [
      "N = 1000 t = 0.04 (us) | N = 2000 t = 0.03 (us) | N = 3000 t = 0.03 (us)\n",
      "N = 1000 t = 0.04 (us) | N = 2000 t = 0.04 (us) | N = 3000 t = 0.04 (us)\n",
      "N = 1000 t = 0.06 (us) | N = 2000 t = 0.06 (us) | N = 3000 t = 0.07 (us)\n"
     ]
    }
   ],
   "source": [
    "setup_code = '''\n",
    "from __main__ import random_string\n",
    "collection = {{random_string(16) : i for i in range({N})}}\n",
    "'''\n",
    "\n",
    "print_scaling('\"ITEM\" in collection',\n",
    "              setup=setup_code,\n",
    "              sizes=[1000, 2000, 3000])\n",
    "\n",
    "print_scaling('collection[\"ITEM\"] if \"ITEM\" in collection else None',\n",
    "              setup=setup_code,\n",
    "              sizes=[1000, 2000, 3000])\n",
    "\n",
    "print_scaling('collection[\"ITEM\"] = 0',\n",
    "              setup=setup_code,\n",
    "              sizes=[1000, 2000, 3000])"
   ]
  },
  {
   "cell_type": "code",
   "execution_count": 19,
   "metadata": {
    "collapsed": false
   },
   "outputs": [
    {
     "name": "stdout",
     "output_type": "stream",
     "text": [
      "N = 1000 t = 0.95 (us) | N = 2000 t = 1.45 (us) | N = 3000 t = 2.10 (us)\n"
     ]
    }
   ],
   "source": [
    "setup_code = '''\n",
    "from __main__ import random_string\n",
    "collection = {{random_string(16) : i for i in range({N})}}\n",
    "'''\n",
    "\n",
    "print_scaling('\"X\"  * {N} in collection',\n",
    "              setup=setup_code,\n",
    "              sizes=[1000, 2000, 3000])"
   ]
  },
  {
   "cell_type": "code",
   "execution_count": 177,
   "metadata": {
    "collapsed": false
   },
   "outputs": [
    {
     "name": "stdout",
     "output_type": "stream",
     "text": [
      "N = 1000 t = 51.48 (us) | N = 2000 t = 96.73 (us) | N = 3000 t = 140.26 (us)\n",
      "N = 1000 t = 120.90 (us) | N = 2000 t = 238.27 (us) | N = 3000 t = 359.60 (us)\n",
      "N = 1000 t = 111.96 (us) | N = 2000 t = 197.13 (us) | N = 3000 t = 282.79 (us)\n"
     ]
    }
   ],
   "source": [
    "setup_code = '''\n",
    "from uuid import uuid4\n",
    "from collections import Counter\n",
    "from __main__ import counter_defaultdict, counter_dict\n",
    "import random\n",
    "\n",
    "random.seed(42)\n",
    "collection = [random.randint(0, 100) for i in range({N})]\n",
    "'''\n",
    "from collections import defaultdict\n",
    "def counter_defaultdict(items):\n",
    "    counter = defaultdict(int)\n",
    "    for item in items:\n",
    "        counter[item] += 1\n",
    "    return counter\n",
    "\n",
    "def counter_dict(items): \n",
    "    counter = {} \n",
    "    for item in items: \n",
    "        if item not in counter: \n",
    "            counter[item] = 0 \n",
    "        else: \n",
    "            counter[item] += 1 \n",
    "    return counter\n",
    "\n",
    "print_scaling('Counter(collection)',\n",
    "              setup=setup_code,\n",
    "              sizes=[1000, 2000, 3000])\n",
    "\n",
    "print_scaling('counter_defaultdict(collection)',\n",
    "              setup=setup_code,\n",
    "              sizes=[1000, 2000, 3000])\n",
    "\n",
    "print_scaling('counter_dict(collection)',\n",
    "              setup=setup_code,\n",
    "              sizes=[1000, 2000, 3000])\n"
   ]
  },
  {
   "cell_type": "code",
   "execution_count": 21,
   "metadata": {
    "collapsed": false
   },
   "outputs": [],
   "source": [
    "from string import ascii_uppercase\n",
    "import random\n",
    "random.seed(42)\n",
    "\n",
    "strings = [random_string(32) for i in range(10000)]"
   ]
  },
  {
   "cell_type": "code",
   "execution_count": 22,
   "metadata": {
    "collapsed": false
   },
   "outputs": [
    {
     "name": "stdout",
     "output_type": "stream",
     "text": [
      "10000 loops, best of 3: 32.5 µs per loop\n"
     ]
    }
   ],
   "source": [
    "%timeit next(s for s in strings if s.startswith('AA'))"
   ]
  },
  {
   "cell_type": "code",
   "execution_count": 23,
   "metadata": {
    "collapsed": false
   },
   "outputs": [],
   "source": [
    "from patricia import trie\n",
    "string_trie = trie(**{s: 0 for s in strings})"
   ]
  },
  {
   "cell_type": "code",
   "execution_count": 24,
   "metadata": {
    "collapsed": false
   },
   "outputs": [
    {
     "name": "stdout",
     "output_type": "stream",
     "text": [
      "The slowest run took 9.05 times longer than the fastest. This could mean that an intermediate result is being cached.\n",
      "100000 loops, best of 3: 4.6 µs per loop\n"
     ]
    }
   ],
   "source": [
    "%timeit next(string_trie.iter('AA'))"
   ]
  },
  {
   "cell_type": "code",
   "execution_count": 25,
   "metadata": {
    "collapsed": false
   },
   "outputs": [
    {
     "name": "stdout",
     "output_type": "stream",
     "text": [
      "N = 10000 t = 1954.30 (us) | N = 20000 t = 4106.75 (us) | N = 30000 t = 7102.93 (us)\n"
     ]
    }
   ],
   "source": [
    "setup_code = '''\n",
    "from itertools import islice\n",
    "from random import choice, seed, shuffle\n",
    "from string import ascii_uppercase\n",
    "seed(42)\n",
    "\n",
    "# Initialize strings without letter 'A'\n",
    "strings = [''.join(choice(ascii_uppercase.replace('A', '')) for i in range(32)) for j in range({N})]\n",
    "\n",
    "# We make sure we only have 10 results that start with 'AA'\n",
    "strings = ['AA' + s[2:] if i < 10 else s for i, s in enumerate(strings)]\n",
    "\n",
    "# Randomization\n",
    "shuffle(strings)\n",
    "'''\n",
    "\n",
    "print_scaling('[s for s in strings if s.startswith(\"AA\")]',\n",
    "              setup=setup_code,\n",
    "              sizes=[10000, 20000, 30000],\n",
    "              repeat=False, units='us')"
   ]
  },
  {
   "cell_type": "code",
   "execution_count": 26,
   "metadata": {
    "collapsed": false
   },
   "outputs": [
    {
     "name": "stdout",
     "output_type": "stream",
     "text": [
      "N = 10000 t = 17.74 (us) | N = 20000 t = 17.48 (us) | N = 30000 t = 17.96 (us)\n"
     ]
    }
   ],
   "source": [
    "setup_code = '''\n",
    "from patricia import trie\n",
    "from random import choice, seed, shuffle\n",
    "from string import ascii_uppercase\n",
    "from itertools import islice\n",
    "seed(42)\n",
    "\n",
    "# Initialize strings without letter 'A'\n",
    "strings = [''.join(choice(ascii_uppercase.replace('A', '')) for i in range(32)) for j in range({N})]\n",
    "\n",
    "# We make sure we only have 10 results that start with 'AA'\n",
    "strings = ['AA' + s[2:] if i < 10 else s for i, s in enumerate(strings)]\n",
    "\n",
    "# Randomization\n",
    "shuffle(strings)\n",
    "strings_dict = {{s: 0 for s in strings}}\n",
    "strings_trie = trie(**strings_dict)\n",
    "'''\n",
    "\n",
    "print_scaling('list(strings_trie.iter(\"AA\"))',\n",
    "              setup=setup_code,\n",
    "              sizes=[10000, 20000, 30000], units='us')"
   ]
  },
  {
   "cell_type": "markdown",
   "metadata": {},
   "source": [
    "# Heaps"
   ]
  },
  {
   "cell_type": "code",
   "execution_count": 27,
   "metadata": {
    "collapsed": true
   },
   "outputs": [],
   "source": [
    "# Creating a heap\n",
    "import heapq\n",
    "collection = [10, 3, 3, 4, 5, 6]\n",
    "heapq.heapify(collection)\n",
    "\n",
    "# Extracting and inserting elements\n",
    "heapq.heappop(collection)\n",
    "heapq.heappush(collection, 1)"
   ]
  },
  {
   "cell_type": "code",
   "execution_count": 31,
   "metadata": {
    "collapsed": false
   },
   "outputs": [
    {
     "data": {
      "text/plain": [
       "3"
      ]
     },
     "execution_count": 31,
     "metadata": {},
     "output_type": "execute_result"
    }
   ],
   "source": [
    "# The PriorityQueue class\n",
    "from queue import PriorityQueue\n",
    "collection = [10, 3, 3, 4, 5, 6]\n",
    "\n",
    "queue = PriorityQueue()\n",
    "for element in collection:\n",
    "    queue.put(element)\n",
    "\n",
    "queue.get(element)"
   ]
  },
  {
   "cell_type": "markdown",
   "metadata": {},
   "source": [
    "# Caching"
   ]
  },
  {
   "cell_type": "code",
   "execution_count": 35,
   "metadata": {
    "collapsed": false
   },
   "outputs": [
    {
     "name": "stdout",
     "output_type": "stream",
     "text": [
      "1 loop, best of 3: 434 ms per loop\n"
     ]
    }
   ],
   "source": [
    "def fibonacci(n):\n",
    "    if n < 1:\n",
    "        return 1\n",
    "    else:\n",
    "        return fibonacci(n - 1) + fibonacci(n - 2)\n",
    "\n",
    "# Non-memoized version\n",
    "%timeit fibonacci(20)"
   ]
  },
  {
   "cell_type": "markdown",
   "metadata": {},
   "source": [
    "# Comprehensions and generators"
   ]
  },
  {
   "cell_type": "code",
   "execution_count": 7,
   "metadata": {
    "collapsed": false
   },
   "outputs": [
    {
     "name": "stdout",
     "output_type": "stream",
     "text": [
      "100 loops, best of 3: 13.2 ms per loop\n",
      "100 loops, best of 3: 12.8 ms per loop\n"
     ]
    }
   ],
   "source": [
    "def loop(): \n",
    "    res = {} \n",
    "    for i in range(100000): \n",
    "        res[i] = i\n",
    "    return res\n",
    " \n",
    "def comprehension(): \n",
    "    return {i: i for i in range(100000)}\n",
    "\n",
    "%timeit loop()\n",
    "%timeit comprehension() "
   ]
  },
  {
   "cell_type": "code",
   "execution_count": 5,
   "metadata": {
    "collapsed": false
   },
   "outputs": [
    {
     "name": "stdout",
     "output_type": "stream",
     "text": [
      "100 loops, best of 3: 16.1 ms per loop\n",
      "100 loops, best of 3: 10.1 ms per loop\n",
      "100 loops, best of 3: 12.4 ms per loop\n"
     ]
    }
   ],
   "source": [
    "def loop(): \n",
    "    res = [] \n",
    "    for i in range(100000): \n",
    "        res.append(i * i) \n",
    "    return sum(res) \n",
    " \n",
    "def comprehension(): \n",
    "    return sum([i * i for i in range(100000)]) \n",
    " \n",
    "def generator(): \n",
    "    return sum(i * i for i in range(100000)) \n",
    "\n",
    "%timeit loop() \n",
    "%timeit comprehension() \n",
    "%timeit generator() "
   ]
  },
  {
   "cell_type": "code",
   "execution_count": 76,
   "metadata": {
    "collapsed": true
   },
   "outputs": [],
   "source": [
    "%load_ext memory_profiler"
   ]
  },
  {
   "cell_type": "code",
   "execution_count": 83,
   "metadata": {
    "collapsed": false
   },
   "outputs": [
    {
     "name": "stdout",
     "output_type": "stream",
     "text": [
      "peak memory: 166.33 MiB, increment: 102.54 MiB\n"
     ]
    }
   ],
   "source": [
    "import os\n",
    "\n",
    "numbers = range(1000000)\n",
    "\n",
    "def map_comprehension(numbers):\n",
    "    a = [n * 2 for n in numbers]\n",
    "    b = [n ** 2 for n in a]\n",
    "    c = [n ** 0.33 for n in b]\n",
    "    return max(c)\n",
    "\n",
    "%memit map_comprehension(numbers) "
   ]
  },
  {
   "cell_type": "code",
   "execution_count": 84,
   "metadata": {
    "collapsed": false
   },
   "outputs": [
    {
     "name": "stdout",
     "output_type": "stream",
     "text": [
      "peak memory: 71.04 MiB, increment: 0.00 MiB\n"
     ]
    }
   ],
   "source": [
    "def map_normal(numbers):\n",
    "    a = map(lambda n: n * 2, numbers)\n",
    "    b = map(lambda n: n ** 2, a)\n",
    "    c = map(lambda n: n ** 0.33, b)\n",
    "    return max(c)\n",
    "\n",
    "%memit map_normal(numbers)"
   ]
  }
 ],
 "metadata": {
  "kernelspec": {
   "display_name": "Python 3",
   "language": "python",
   "name": "python3"
  },
  "language_info": {
   "codemirror_mode": {
    "name": "ipython",
    "version": 3
   },
   "file_extension": ".py",
   "mimetype": "text/x-python",
   "name": "python",
   "nbconvert_exporter": "python",
   "pygments_lexer": "ipython3",
   "version": "3.5.2"
  }
 },
 "nbformat": 4,
 "nbformat_minor": 2
}
