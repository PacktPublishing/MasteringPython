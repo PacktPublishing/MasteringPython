{
 "cells": [
  {
   "cell_type": "code",
   "execution_count": 1,
   "metadata": {
    "collapsed": false
   },
   "outputs": [],
   "source": [
    "# This cell contains some utility functions to prepare and execute the benchmarks\n",
    "import timeit\n",
    "from random import choice\n",
    "from string import ascii_uppercase\n",
    "\n",
    "def random_string(length):\n",
    "    \"\"\"Produce a random string made of *length* uppercase ascii characters\"\"\"\n",
    "    return ''.join(choice(ascii_uppercase) for i in range(length))\n",
    "\n",
    "def print_scaling(stmt, setup, sizes=[10000, 20000, 30000], repeat=False, units='us'):\n",
    "    \"\"\"Print scaling information for the statement *stmt*, executed after *setup*.\n",
    "    \n",
    "    The *setup* and *stmt* arguments take a template string where \"{N}\"\n",
    "    will be replaced as the size of the input.\n",
    "    \n",
    "    The *repeat* flags determined if the setup needs to be run between\n",
    "    each test run.\n",
    "    \"\"\"\n",
    "    values = []\n",
    "    for size in sizes:\n",
    "        if repeat:\n",
    "            timings = timeit.repeat(stmt.format(N=size),\n",
    "                                    setup=setup.format(N=size),\n",
    "                                    number=1, repeat=1000)\n",
    "            values.append(min(timings))\n",
    "        else:\n",
    "            timings = timeit.repeat(stmt.format(N=size),\n",
    "                                    setup=setup.format(N=size),\n",
    "                                    number=1000, repeat=3)\n",
    "            values.append(min(t/1000 for t in timings))\n",
    "    unit_factor = {'us': 1e6,\n",
    "                   'ms': 1e3}[units]\n",
    "    \n",
    "    print(' | '.join('N = {} t = {:.2f} ({})'.format(n, t * unit_factor, units) for n, t in zip(sizes, values)))"
   ]
  },
  {
   "cell_type": "markdown",
   "metadata": {},
   "source": [
    "# Dataframes"
   ]
  },
  {
   "cell_type": "code",
   "execution_count": 3,
   "metadata": {
    "collapsed": false
   },
   "outputs": [
    {
     "name": "stdout",
     "output_type": "stream",
     "text": [
      "N = 10000 t = 12.30 (us) | N = 20000 t = 12.58 (us) | N = 30000 t = 13.30 (us)\n"
     ]
    }
   ],
   "source": [
    "print_scaling('series[1000]',\n",
    "              setup='import pandas as pd; series = pd.Series(range({N}), index=range({N}))')"
   ]
  },
  {
   "cell_type": "code",
   "execution_count": 8,
   "metadata": {
    "collapsed": false
   },
   "outputs": [
    {
     "name": "stdout",
     "output_type": "stream",
     "text": [
      "N = 10000 t = 494.95 (us) | N = 20000 t = 814.10 (us) | N = 30000 t = 1129.95 (us)\n"
     ]
    }
   ],
   "source": [
    "setup_code = '''\n",
    "import pandas as pd\n",
    "import random\n",
    "\n",
    "index = list(range({N}//2)) + list(range({N}//2))\n",
    "random.seed(42)\n",
    "random.shuffle(index)\n",
    "\n",
    "series = pd.Series(range({N}), index=index)\n",
    "'''\n",
    "print_scaling('series[1000]',\n",
    "              setup=setup_code)"
   ]
  },
  {
   "cell_type": "code",
   "execution_count": 12,
   "metadata": {
    "collapsed": false
   },
   "outputs": [
    {
     "name": "stdout",
     "output_type": "stream",
     "text": [
      "N = 10000 t = 145.93 (us) | N = 20000 t = 145.81 (us) | N = 30000 t = 145.66 (us)\n"
     ]
    }
   ],
   "source": [
    "setup_code = '''\n",
    "import pandas as pd\n",
    "import random\n",
    "\n",
    "index = list(range({N}//2)) + list(range({N}//2))\n",
    "random.seed(42)\n",
    "random.shuffle(index)\n",
    "\n",
    "series = pd.Series(range({N}), index=index)\n",
    "series.sort_index(inplace=True)\n",
    "'''\n",
    "print_scaling('series[1000]',\n",
    "              setup=setup_code)"
   ]
  }
 ],
 "metadata": {
  "kernelspec": {
   "display_name": "Python 3",
   "language": "python",
   "name": "python3"
  },
  "language_info": {
   "codemirror_mode": {
    "name": "ipython",
    "version": 3
   },
   "file_extension": ".py",
   "mimetype": "text/x-python",
   "name": "python",
   "nbconvert_exporter": "python",
   "pygments_lexer": "ipython3",
   "version": "3.5.2"
  }
 },
 "nbformat": 4,
 "nbformat_minor": 2
}
